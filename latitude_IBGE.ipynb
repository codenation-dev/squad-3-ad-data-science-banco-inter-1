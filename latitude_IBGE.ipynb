{
 "cells": [
  {
   "cell_type": "code",
   "execution_count": 1,
   "metadata": {},
   "outputs": [],
   "source": [
    "import pandas as pd"
   ]
  },
  {
   "cell_type": "code",
   "execution_count": 5,
   "metadata": {},
   "outputs": [
    {
     "data": {
      "text/plain": [
       "(21886, 21)"
      ]
     },
     "execution_count": 5,
     "metadata": {},
     "output_type": "execute_result"
    }
   ],
   "source": [
    "coord_ibge = pd.read_csv('dados/latlng_local.csv')\n",
    "coord_ibge.shape"
   ]
  },
  {
   "cell_type": "code",
   "execution_count": 4,
   "metadata": {},
   "outputs": [],
   "source": [
    "# agora, tem que criar um dataframe com o nome das regiões e coordenadas geográficas.\n",
    "# será usada a média, ou seja, mais ou menos o centro da região,\n",
    "# obtida a partir dos dados dos municípios\n",
    "\n",
    "# o nome do estado também ficará junto.\n",
    "coord_micro = coord_ibge.groupby(['nm_micro', 'nm_uf'])['lng', 'lat'].mean()"
   ]
  },
  {
   "cell_type": "code",
   "execution_count": 4,
   "metadata": {},
   "outputs": [],
   "source": [
    "nomes = coord_micro.index.get_level_values(0)"
   ]
  },
  {
   "cell_type": "code",
   "execution_count": 5,
   "metadata": {},
   "outputs": [],
   "source": [
    "# tirar os acentos\n",
    "import unicodedata\n",
    "tempdict={}\n",
    "for text in nomes:\n",
    "    #print(unicodedata.normalize('NFKD', text).encode('ascii', 'ignore'))\n",
    "    tempdict[text]=unicodedata.normalize('NFKD', text).encode('ascii', 'ignore').decode('utf-8')"
   ]
  },
  {
   "cell_type": "code",
   "execution_count": 6,
   "metadata": {},
   "outputs": [],
   "source": [
    "coord_micro.rename(tempdict, inplace=True) "
   ]
  },
  {
   "cell_type": "code",
   "execution_count": 7,
   "metadata": {},
   "outputs": [],
   "source": [
    "coord_micro.reset_index(level=['nm_micro'], inplace=True)"
   ]
  },
  {
   "cell_type": "code",
   "execution_count": 8,
   "metadata": {},
   "outputs": [],
   "source": [
    "coord_micro.to_csv('coord_geograficas_brasil.csv')"
   ]
  }
 ],
 "metadata": {
  "kernelspec": {
   "display_name": "Python 3",
   "language": "python",
   "name": "python3"
  },
  "language_info": {
   "codemirror_mode": {
    "name": "ipython",
    "version": 3
   },
   "file_extension": ".py",
   "mimetype": "text/x-python",
   "name": "python",
   "nbconvert_exporter": "python",
   "pygments_lexer": "ipython3",
   "version": "3.7.3"
  }
 },
 "nbformat": 4,
 "nbformat_minor": 2
}
