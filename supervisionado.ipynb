{
 "cells": [
  {
   "cell_type": "code",
   "execution_count": 1,
   "metadata": {},
   "outputs": [],
   "source": [
    "import pandas as pd\n",
    "import numpy as np\n",
    "import matplotlib.pyplot as plt\n",
    "%matplotlib inline\n",
    "import seaborn as sns"
   ]
  },
  {
   "cell_type": "code",
   "execution_count": 5,
   "metadata": {},
   "outputs": [],
   "source": [
    "portfolio3 = pd.read_csv('estaticos_portfolio3.csv')\n",
    "market_encoded = pd.read_csv('market_clean_enconded.csv')\n",
    "portfolio1 = pd.read_csv('estaticos_portfolio1.csv')\n",
    "portfolio2 = pd.read_csv('estaticos_portfolio2.csv')\n"
   ]
  },
  {
   "cell_type": "code",
   "execution_count": 6,
   "metadata": {},
   "outputs": [],
   "source": [
    "portfolio1 = portfolio1.drop(['Unnamed: 0'], axis = 1)\n",
    "portfolio2 = portfolio2.drop(['Unnamed: 0'], axis = 1)\n",
    "portfolio3 = portfolio3.drop(['Unnamed: 0'], axis = 1)"
   ]
  },
  {
   "cell_type": "code",
   "execution_count": 7,
   "metadata": {},
   "outputs": [
    {
     "name": "stdout",
     "output_type": "stream",
     "text": [
      "Shape do Portfolio1 é (555, 181)\n",
      "Shape do Portfolio2 é (566, 1)\n",
      "Shape do Portfolio3 é (265, 1)\n",
      "Shape do Market é (462298, 40)\n"
     ]
    }
   ],
   "source": [
    "print('Shape do Portfolio1 é', portfolio1.shape)\n",
    "print('Shape do Portfolio2 é', portfolio2.shape)\n",
    "print('Shape do Portfolio3 é', portfolio3.shape)\n",
    "print('Shape do Market é', market_encoded.shape)"
   ]
  },
  {
   "cell_type": "markdown",
   "metadata": {},
   "source": [
    "## Analisando se os ids estão presentes nos 3 portfólios, se está só em 2 ou só em 1 portfólio"
   ]
  },
  {
   "cell_type": "code",
   "execution_count": 8,
   "metadata": {},
   "outputs": [],
   "source": [
    "port1 = list(portfolio1['id'])\n",
    "port2 = list(portfolio2['id'])\n",
    "port3 = list(portfolio3['id'])"
   ]
  },
  {
   "cell_type": "code",
   "execution_count": 9,
   "metadata": {},
   "outputs": [],
   "source": [
    "port1_port2 = [x for x in port1 if x in port2]\n",
    "port1_port3 = [x for x in port1 if x in port3]\n",
    "port2_port3 = [x for x in port2 if x in port3]\n",
    "port1_port2_port3 = [x for x in port1 if x in port2 and port3]"
   ]
  },
  {
   "cell_type": "code",
   "execution_count": 10,
   "metadata": {},
   "outputs": [
    {
     "name": "stdout",
     "output_type": "stream",
     "text": [
      "Port1 and Port2: 0\n",
      "Port1 and Port3: 0\n",
      "Port2 and Port3: 108\n",
      "Port1, Port2 and Port3: 0\n"
     ]
    }
   ],
   "source": [
    "print(f\"Port1 and Port2: {len(port1_port2)}\")\n",
    "print(f\"Port1 and Port3: {len(port1_port3)}\")\n",
    "print(f\"Port2 and Port3: {len(port2_port3)}\")\n",
    "print(f\"Port1, Port2 and Port3: {len(port1_port2_port3)}\")"
   ]
  },
  {
   "cell_type": "markdown",
   "metadata": {},
   "source": [
    "# Pegando os ids do Market que não estão em nenhum portfólio"
   ]
  },
  {
   "cell_type": "code",
   "execution_count": 32,
   "metadata": {},
   "outputs": [],
   "source": [
    "just_market = pd.read_csv('merge_not.csv')"
   ]
  },
  {
   "cell_type": "code",
   "execution_count": 34,
   "metadata": {},
   "outputs": [
    {
     "data": {
      "text/html": [
       "<div>\n",
       "<style scoped>\n",
       "    .dataframe tbody tr th:only-of-type {\n",
       "        vertical-align: middle;\n",
       "    }\n",
       "\n",
       "    .dataframe tbody tr th {\n",
       "        vertical-align: top;\n",
       "    }\n",
       "\n",
       "    .dataframe thead th {\n",
       "        text-align: right;\n",
       "    }\n",
       "</style>\n",
       "<table border=\"1\" class=\"dataframe\">\n",
       "  <thead>\n",
       "    <tr style=\"text-align: right;\">\n",
       "      <th></th>\n",
       "      <th>Unnamed: 0</th>\n",
       "      <th>fl_matriz</th>\n",
       "      <th>idade_empresa_anos</th>\n",
       "      <th>fl_me</th>\n",
       "      <th>fl_sa</th>\n",
       "      <th>fl_mei</th>\n",
       "      <th>fl_ltda</th>\n",
       "      <th>fl_st_especial</th>\n",
       "      <th>fl_email</th>\n",
       "      <th>fl_telefone</th>\n",
       "      <th>...</th>\n",
       "      <th>nm_segmento</th>\n",
       "      <th>sg_uf_matriz</th>\n",
       "      <th>de_saude_tributaria</th>\n",
       "      <th>de_saude_rescencia</th>\n",
       "      <th>de_nivel_atividade</th>\n",
       "      <th>nm_meso_regiao</th>\n",
       "      <th>nm_micro_regiao</th>\n",
       "      <th>de_faixa_faturamento_estimado</th>\n",
       "      <th>de_faixa_faturamento_estimado_grupo</th>\n",
       "      <th>id</th>\n",
       "    </tr>\n",
       "  </thead>\n",
       "  <tbody>\n",
       "    <tr>\n",
       "      <th>0</th>\n",
       "      <td>0</td>\n",
       "      <td>1</td>\n",
       "      <td>14.457534</td>\n",
       "      <td>0</td>\n",
       "      <td>0</td>\n",
       "      <td>0</td>\n",
       "      <td>0</td>\n",
       "      <td>0</td>\n",
       "      <td>1</td>\n",
       "      <td>1</td>\n",
       "      <td>...</td>\n",
       "      <td>10</td>\n",
       "      <td>19</td>\n",
       "      <td>4</td>\n",
       "      <td>0</td>\n",
       "      <td>0</td>\n",
       "      <td>6</td>\n",
       "      <td>48</td>\n",
       "      <td>2</td>\n",
       "      <td>2</td>\n",
       "      <td>a6984c3ae395090e3bee8ad63c3758b110de096d5d8195...</td>\n",
       "    </tr>\n",
       "    <tr>\n",
       "      <th>1</th>\n",
       "      <td>1</td>\n",
       "      <td>1</td>\n",
       "      <td>1.463014</td>\n",
       "      <td>0</td>\n",
       "      <td>0</td>\n",
       "      <td>1</td>\n",
       "      <td>0</td>\n",
       "      <td>0</td>\n",
       "      <td>1</td>\n",
       "      <td>1</td>\n",
       "      <td>...</td>\n",
       "      <td>3</td>\n",
       "      <td>16</td>\n",
       "      <td>2</td>\n",
       "      <td>1</td>\n",
       "      <td>1</td>\n",
       "      <td>4</td>\n",
       "      <td>69</td>\n",
       "      <td>10</td>\n",
       "      <td>10</td>\n",
       "      <td>6178f41ade1365e44bc2c46654c2c8c0eaae27dcb476c4...</td>\n",
       "    </tr>\n",
       "    <tr>\n",
       "      <th>2</th>\n",
       "      <td>2</td>\n",
       "      <td>1</td>\n",
       "      <td>7.093151</td>\n",
       "      <td>0</td>\n",
       "      <td>0</td>\n",
       "      <td>1</td>\n",
       "      <td>0</td>\n",
       "      <td>0</td>\n",
       "      <td>0</td>\n",
       "      <td>1</td>\n",
       "      <td>...</td>\n",
       "      <td>20</td>\n",
       "      <td>2</td>\n",
       "      <td>0</td>\n",
       "      <td>0</td>\n",
       "      <td>2</td>\n",
       "      <td>2</td>\n",
       "      <td>43</td>\n",
       "      <td>1</td>\n",
       "      <td>1</td>\n",
       "      <td>4a7e5069a397f12fdd7fd57111d6dc5d3ba558958efc02...</td>\n",
       "    </tr>\n",
       "    <tr>\n",
       "      <th>3</th>\n",
       "      <td>3</td>\n",
       "      <td>1</td>\n",
       "      <td>6.512329</td>\n",
       "      <td>0</td>\n",
       "      <td>0</td>\n",
       "      <td>0</td>\n",
       "      <td>0</td>\n",
       "      <td>0</td>\n",
       "      <td>1</td>\n",
       "      <td>1</td>\n",
       "      <td>...</td>\n",
       "      <td>17</td>\n",
       "      <td>2</td>\n",
       "      <td>0</td>\n",
       "      <td>0</td>\n",
       "      <td>2</td>\n",
       "      <td>2</td>\n",
       "      <td>43</td>\n",
       "      <td>10</td>\n",
       "      <td>10</td>\n",
       "      <td>3348900fe63216a439d2e5238c79ddd46ede454df7b9d8...</td>\n",
       "    </tr>\n",
       "    <tr>\n",
       "      <th>4</th>\n",
       "      <td>4</td>\n",
       "      <td>1</td>\n",
       "      <td>3.200000</td>\n",
       "      <td>0</td>\n",
       "      <td>0</td>\n",
       "      <td>0</td>\n",
       "      <td>0</td>\n",
       "      <td>0</td>\n",
       "      <td>1</td>\n",
       "      <td>1</td>\n",
       "      <td>...</td>\n",
       "      <td>8</td>\n",
       "      <td>19</td>\n",
       "      <td>4</td>\n",
       "      <td>0</td>\n",
       "      <td>0</td>\n",
       "      <td>6</td>\n",
       "      <td>48</td>\n",
       "      <td>10</td>\n",
       "      <td>10</td>\n",
       "      <td>1f9bcabc9d3173c1fe769899e4fac14b053037b953a1e4...</td>\n",
       "    </tr>\n",
       "  </tbody>\n",
       "</table>\n",
       "<p>5 rows × 41 columns</p>\n",
       "</div>"
      ],
      "text/plain": [
       "   Unnamed: 0  fl_matriz  idade_empresa_anos  fl_me  fl_sa  fl_mei  fl_ltda  \\\n",
       "0           0          1           14.457534      0      0       0        0   \n",
       "1           1          1            1.463014      0      0       1        0   \n",
       "2           2          1            7.093151      0      0       1        0   \n",
       "3           3          1            6.512329      0      0       0        0   \n",
       "4           4          1            3.200000      0      0       0        0   \n",
       "\n",
       "   fl_st_especial  fl_email  fl_telefone  ...  nm_segmento  sg_uf_matriz  \\\n",
       "0               0         1            1  ...           10            19   \n",
       "1               0         1            1  ...            3            16   \n",
       "2               0         0            1  ...           20             2   \n",
       "3               0         1            1  ...           17             2   \n",
       "4               0         1            1  ...            8            19   \n",
       "\n",
       "   de_saude_tributaria  de_saude_rescencia  de_nivel_atividade  \\\n",
       "0                    4                   0                   0   \n",
       "1                    2                   1                   1   \n",
       "2                    0                   0                   2   \n",
       "3                    0                   0                   2   \n",
       "4                    4                   0                   0   \n",
       "\n",
       "   nm_meso_regiao  nm_micro_regiao  de_faixa_faturamento_estimado  \\\n",
       "0               6               48                              2   \n",
       "1               4               69                             10   \n",
       "2               2               43                              1   \n",
       "3               2               43                             10   \n",
       "4               6               48                             10   \n",
       "\n",
       "   de_faixa_faturamento_estimado_grupo  \\\n",
       "0                                    2   \n",
       "1                                   10   \n",
       "2                                    1   \n",
       "3                                   10   \n",
       "4                                   10   \n",
       "\n",
       "                                                  id  \n",
       "0  a6984c3ae395090e3bee8ad63c3758b110de096d5d8195...  \n",
       "1  6178f41ade1365e44bc2c46654c2c8c0eaae27dcb476c4...  \n",
       "2  4a7e5069a397f12fdd7fd57111d6dc5d3ba558958efc02...  \n",
       "3  3348900fe63216a439d2e5238c79ddd46ede454df7b9d8...  \n",
       "4  1f9bcabc9d3173c1fe769899e4fac14b053037b953a1e4...  \n",
       "\n",
       "[5 rows x 41 columns]"
      ]
     },
     "execution_count": 34,
     "metadata": {},
     "output_type": "execute_result"
    }
   ],
   "source": [
    "just_market.head()"
   ]
  },
  {
   "cell_type": "code",
   "execution_count": 35,
   "metadata": {},
   "outputs": [],
   "source": [
    "just_market = just_market.drop(['Unnamed: 0'], axis = 1)"
   ]
  },
  {
   "cell_type": "markdown",
   "metadata": {},
   "source": [
    "# Merge nos portfólios 2 e 3 com o market"
   ]
  },
  {
   "cell_type": "code",
   "execution_count": 39,
   "metadata": {},
   "outputs": [],
   "source": [
    "df_portfolio2 = pd.merge(portfolio2, market_encoded, on='id')\n",
    "df_portfolio3 = pd.merge(portfolio3, market_encoded, on='id')"
   ]
  },
  {
   "cell_type": "markdown",
   "metadata": {},
   "source": [
    "# Portfólio 1"
   ]
  },
  {
   "cell_type": "markdown",
   "metadata": {},
   "source": [
    "#### Tirando uma amostra do portfólio 1 para depois colocar na base de teste para verificar se serão recomendados para o portfólio 1"
   ]
  },
  {
   "cell_type": "code",
   "execution_count": 19,
   "metadata": {},
   "outputs": [],
   "source": [
    "df_portfolio1 = pd.merge(portfolio1.id, market_encoded, on='id')"
   ]
  },
  {
   "cell_type": "code",
   "execution_count": 20,
   "metadata": {},
   "outputs": [
    {
     "data": {
      "text/plain": [
       "(555, 40)"
      ]
     },
     "execution_count": 20,
     "metadata": {},
     "output_type": "execute_result"
    }
   ],
   "source": [
    "df_portfolio1.shape"
   ]
  },
  {
   "cell_type": "code",
   "execution_count": 28,
   "metadata": {},
   "outputs": [],
   "source": [
    "df_portfolio1_part = df_portfolio1.iloc[0:490]"
   ]
  },
  {
   "cell_type": "code",
   "execution_count": 31,
   "metadata": {},
   "outputs": [],
   "source": [
    "amostra_port1 = df_portfolio1[490:]"
   ]
  },
  {
   "cell_type": "markdown",
   "metadata": {},
   "source": [
    "## Colocando uma coluna de target 1 para os que são do portfólio 1"
   ]
  },
  {
   "cell_type": "code",
   "execution_count": 40,
   "metadata": {},
   "outputs": [],
   "source": [
    "df_portfolio1_part_target = df_portfolio1_part.copy()"
   ]
  },
  {
   "cell_type": "code",
   "execution_count": 41,
   "metadata": {},
   "outputs": [],
   "source": [
    "df_portfolio1_part_target['Target'] = 1"
   ]
  },
  {
   "cell_type": "code",
   "execution_count": 42,
   "metadata": {},
   "outputs": [
    {
     "data": {
      "text/html": [
       "<div>\n",
       "<style scoped>\n",
       "    .dataframe tbody tr th:only-of-type {\n",
       "        vertical-align: middle;\n",
       "    }\n",
       "\n",
       "    .dataframe tbody tr th {\n",
       "        vertical-align: top;\n",
       "    }\n",
       "\n",
       "    .dataframe thead th {\n",
       "        text-align: right;\n",
       "    }\n",
       "</style>\n",
       "<table border=\"1\" class=\"dataframe\">\n",
       "  <thead>\n",
       "    <tr style=\"text-align: right;\">\n",
       "      <th></th>\n",
       "      <th>id</th>\n",
       "      <th>fl_matriz</th>\n",
       "      <th>idade_empresa_anos</th>\n",
       "      <th>fl_me</th>\n",
       "      <th>fl_sa</th>\n",
       "      <th>fl_mei</th>\n",
       "      <th>fl_ltda</th>\n",
       "      <th>fl_st_especial</th>\n",
       "      <th>fl_email</th>\n",
       "      <th>fl_telefone</th>\n",
       "      <th>...</th>\n",
       "      <th>nm_segmento</th>\n",
       "      <th>sg_uf_matriz</th>\n",
       "      <th>de_saude_tributaria</th>\n",
       "      <th>de_saude_rescencia</th>\n",
       "      <th>de_nivel_atividade</th>\n",
       "      <th>nm_meso_regiao</th>\n",
       "      <th>nm_micro_regiao</th>\n",
       "      <th>de_faixa_faturamento_estimado</th>\n",
       "      <th>de_faixa_faturamento_estimado_grupo</th>\n",
       "      <th>Target</th>\n",
       "    </tr>\n",
       "  </thead>\n",
       "  <tbody>\n",
       "    <tr>\n",
       "      <th>0</th>\n",
       "      <td>dabe79bec87c88ae04e869bf6bd321ee5e1893cecf6625...</td>\n",
       "      <td>1</td>\n",
       "      <td>0.646575</td>\n",
       "      <td>0</td>\n",
       "      <td>0</td>\n",
       "      <td>1</td>\n",
       "      <td>0</td>\n",
       "      <td>0</td>\n",
       "      <td>0</td>\n",
       "      <td>0</td>\n",
       "      <td>...</td>\n",
       "      <td>9</td>\n",
       "      <td>16</td>\n",
       "      <td>2</td>\n",
       "      <td>4</td>\n",
       "      <td>1</td>\n",
       "      <td>14</td>\n",
       "      <td>61</td>\n",
       "      <td>10</td>\n",
       "      <td>10</td>\n",
       "      <td>1</td>\n",
       "    </tr>\n",
       "    <tr>\n",
       "      <th>1</th>\n",
       "      <td>32e5f4e10932153a7ba869cb0386e7e02d49d2461046b8...</td>\n",
       "      <td>0</td>\n",
       "      <td>6.586301</td>\n",
       "      <td>0</td>\n",
       "      <td>0</td>\n",
       "      <td>0</td>\n",
       "      <td>0</td>\n",
       "      <td>0</td>\n",
       "      <td>1</td>\n",
       "      <td>1</td>\n",
       "      <td>...</td>\n",
       "      <td>9</td>\n",
       "      <td>9</td>\n",
       "      <td>4</td>\n",
       "      <td>0</td>\n",
       "      <td>2</td>\n",
       "      <td>3</td>\n",
       "      <td>44</td>\n",
       "      <td>10</td>\n",
       "      <td>7</td>\n",
       "      <td>1</td>\n",
       "    </tr>\n",
       "    <tr>\n",
       "      <th>2</th>\n",
       "      <td>a95d6f30bba445bd3d6b0c5b36f865b38ec01d17336090...</td>\n",
       "      <td>1</td>\n",
       "      <td>8.010959</td>\n",
       "      <td>0</td>\n",
       "      <td>0</td>\n",
       "      <td>1</td>\n",
       "      <td>0</td>\n",
       "      <td>0</td>\n",
       "      <td>0</td>\n",
       "      <td>0</td>\n",
       "      <td>...</td>\n",
       "      <td>9</td>\n",
       "      <td>9</td>\n",
       "      <td>1</td>\n",
       "      <td>0</td>\n",
       "      <td>2</td>\n",
       "      <td>8</td>\n",
       "      <td>0</td>\n",
       "      <td>1</td>\n",
       "      <td>1</td>\n",
       "      <td>1</td>\n",
       "    </tr>\n",
       "    <tr>\n",
       "      <th>3</th>\n",
       "      <td>6cb309685cea0b6d2988818792ec2e6fcb2bd02e0afa9e...</td>\n",
       "      <td>1</td>\n",
       "      <td>20.863014</td>\n",
       "      <td>0</td>\n",
       "      <td>0</td>\n",
       "      <td>0</td>\n",
       "      <td>0</td>\n",
       "      <td>0</td>\n",
       "      <td>0</td>\n",
       "      <td>0</td>\n",
       "      <td>...</td>\n",
       "      <td>9</td>\n",
       "      <td>19</td>\n",
       "      <td>4</td>\n",
       "      <td>0</td>\n",
       "      <td>0</td>\n",
       "      <td>11</td>\n",
       "      <td>70</td>\n",
       "      <td>1</td>\n",
       "      <td>1</td>\n",
       "      <td>1</td>\n",
       "    </tr>\n",
       "    <tr>\n",
       "      <th>4</th>\n",
       "      <td>f72aa7fa6787b0a5a1c88885b6120850df8ee0f71adc25...</td>\n",
       "      <td>1</td>\n",
       "      <td>18.726027</td>\n",
       "      <td>0</td>\n",
       "      <td>0</td>\n",
       "      <td>0</td>\n",
       "      <td>0</td>\n",
       "      <td>0</td>\n",
       "      <td>1</td>\n",
       "      <td>1</td>\n",
       "      <td>...</td>\n",
       "      <td>9</td>\n",
       "      <td>19</td>\n",
       "      <td>4</td>\n",
       "      <td>0</td>\n",
       "      <td>0</td>\n",
       "      <td>6</td>\n",
       "      <td>48</td>\n",
       "      <td>2</td>\n",
       "      <td>8</td>\n",
       "      <td>1</td>\n",
       "    </tr>\n",
       "  </tbody>\n",
       "</table>\n",
       "<p>5 rows × 41 columns</p>\n",
       "</div>"
      ],
      "text/plain": [
       "                                                  id  fl_matriz  \\\n",
       "0  dabe79bec87c88ae04e869bf6bd321ee5e1893cecf6625...          1   \n",
       "1  32e5f4e10932153a7ba869cb0386e7e02d49d2461046b8...          0   \n",
       "2  a95d6f30bba445bd3d6b0c5b36f865b38ec01d17336090...          1   \n",
       "3  6cb309685cea0b6d2988818792ec2e6fcb2bd02e0afa9e...          1   \n",
       "4  f72aa7fa6787b0a5a1c88885b6120850df8ee0f71adc25...          1   \n",
       "\n",
       "   idade_empresa_anos  fl_me  fl_sa  fl_mei  fl_ltda  fl_st_especial  \\\n",
       "0            0.646575      0      0       1        0               0   \n",
       "1            6.586301      0      0       0        0               0   \n",
       "2            8.010959      0      0       1        0               0   \n",
       "3           20.863014      0      0       0        0               0   \n",
       "4           18.726027      0      0       0        0               0   \n",
       "\n",
       "   fl_email  fl_telefone  ...  nm_segmento  sg_uf_matriz  de_saude_tributaria  \\\n",
       "0         0            0  ...            9            16                    2   \n",
       "1         1            1  ...            9             9                    4   \n",
       "2         0            0  ...            9             9                    1   \n",
       "3         0            0  ...            9            19                    4   \n",
       "4         1            1  ...            9            19                    4   \n",
       "\n",
       "   de_saude_rescencia  de_nivel_atividade  nm_meso_regiao  nm_micro_regiao  \\\n",
       "0                   4                   1              14               61   \n",
       "1                   0                   2               3               44   \n",
       "2                   0                   2               8                0   \n",
       "3                   0                   0              11               70   \n",
       "4                   0                   0               6               48   \n",
       "\n",
       "   de_faixa_faturamento_estimado  de_faixa_faturamento_estimado_grupo  Target  \n",
       "0                             10                                   10       1  \n",
       "1                             10                                    7       1  \n",
       "2                              1                                    1       1  \n",
       "3                              1                                    1       1  \n",
       "4                              2                                    8       1  \n",
       "\n",
       "[5 rows x 41 columns]"
      ]
     },
     "execution_count": 42,
     "metadata": {},
     "output_type": "execute_result"
    }
   ],
   "source": [
    "df_portfolio1_part_target.head()"
   ]
  },
  {
   "cell_type": "markdown",
   "metadata": {},
   "source": [
    "## Colocando alguns dados dentro do portfólio 1 que serão uma target 0 (não serão do portfólio 1)"
   ]
  },
  {
   "cell_type": "markdown",
   "metadata": {},
   "source": [
    "### Vamos utilizar o portfólio2 para treinar com o portfólio 1. Para isso vou colocar a target 0 para o portfólio 2"
   ]
  },
  {
   "cell_type": "code",
   "execution_count": 43,
   "metadata": {},
   "outputs": [],
   "source": [
    "df_portfolio2_target = df_portfolio2.copy()"
   ]
  },
  {
   "cell_type": "code",
   "execution_count": 44,
   "metadata": {},
   "outputs": [],
   "source": [
    "df_portfolio2_target['Target'] = 0"
   ]
  },
  {
   "cell_type": "code",
   "execution_count": 45,
   "metadata": {},
   "outputs": [
    {
     "data": {
      "text/html": [
       "<div>\n",
       "<style scoped>\n",
       "    .dataframe tbody tr th:only-of-type {\n",
       "        vertical-align: middle;\n",
       "    }\n",
       "\n",
       "    .dataframe tbody tr th {\n",
       "        vertical-align: top;\n",
       "    }\n",
       "\n",
       "    .dataframe thead th {\n",
       "        text-align: right;\n",
       "    }\n",
       "</style>\n",
       "<table border=\"1\" class=\"dataframe\">\n",
       "  <thead>\n",
       "    <tr style=\"text-align: right;\">\n",
       "      <th></th>\n",
       "      <th>id</th>\n",
       "      <th>fl_matriz</th>\n",
       "      <th>idade_empresa_anos</th>\n",
       "      <th>fl_me</th>\n",
       "      <th>fl_sa</th>\n",
       "      <th>fl_mei</th>\n",
       "      <th>fl_ltda</th>\n",
       "      <th>fl_st_especial</th>\n",
       "      <th>fl_email</th>\n",
       "      <th>fl_telefone</th>\n",
       "      <th>...</th>\n",
       "      <th>nm_segmento</th>\n",
       "      <th>sg_uf_matriz</th>\n",
       "      <th>de_saude_tributaria</th>\n",
       "      <th>de_saude_rescencia</th>\n",
       "      <th>de_nivel_atividade</th>\n",
       "      <th>nm_meso_regiao</th>\n",
       "      <th>nm_micro_regiao</th>\n",
       "      <th>de_faixa_faturamento_estimado</th>\n",
       "      <th>de_faixa_faturamento_estimado_grupo</th>\n",
       "      <th>Target</th>\n",
       "    </tr>\n",
       "  </thead>\n",
       "  <tbody>\n",
       "    <tr>\n",
       "      <th>0</th>\n",
       "      <td>09e95c1a84049001d086470a8f320a19b076f955a89122...</td>\n",
       "      <td>1</td>\n",
       "      <td>11.243836</td>\n",
       "      <td>0</td>\n",
       "      <td>0</td>\n",
       "      <td>0</td>\n",
       "      <td>0</td>\n",
       "      <td>0</td>\n",
       "      <td>1</td>\n",
       "      <td>1</td>\n",
       "      <td>...</td>\n",
       "      <td>0</td>\n",
       "      <td>0</td>\n",
       "      <td>4</td>\n",
       "      <td>0</td>\n",
       "      <td>0</td>\n",
       "      <td>17</td>\n",
       "      <td>57</td>\n",
       "      <td>6</td>\n",
       "      <td>6</td>\n",
       "      <td>0</td>\n",
       "    </tr>\n",
       "    <tr>\n",
       "      <th>1</th>\n",
       "      <td>dc9d155f5bcd3172031e2ec9431786e8871ff4b0ff4728...</td>\n",
       "      <td>1</td>\n",
       "      <td>43.789041</td>\n",
       "      <td>0</td>\n",
       "      <td>0</td>\n",
       "      <td>0</td>\n",
       "      <td>0</td>\n",
       "      <td>0</td>\n",
       "      <td>0</td>\n",
       "      <td>0</td>\n",
       "      <td>...</td>\n",
       "      <td>0</td>\n",
       "      <td>19</td>\n",
       "      <td>4</td>\n",
       "      <td>0</td>\n",
       "      <td>0</td>\n",
       "      <td>0</td>\n",
       "      <td>1</td>\n",
       "      <td>4</td>\n",
       "      <td>4</td>\n",
       "      <td>0</td>\n",
       "    </tr>\n",
       "    <tr>\n",
       "      <th>2</th>\n",
       "      <td>16843c9ffb920170477118933798510d8d5f00f5c56c12...</td>\n",
       "      <td>1</td>\n",
       "      <td>16.389041</td>\n",
       "      <td>0</td>\n",
       "      <td>0</td>\n",
       "      <td>0</td>\n",
       "      <td>0</td>\n",
       "      <td>0</td>\n",
       "      <td>0</td>\n",
       "      <td>1</td>\n",
       "      <td>...</td>\n",
       "      <td>11</td>\n",
       "      <td>16</td>\n",
       "      <td>4</td>\n",
       "      <td>0</td>\n",
       "      <td>0</td>\n",
       "      <td>9</td>\n",
       "      <td>11</td>\n",
       "      <td>3</td>\n",
       "      <td>3</td>\n",
       "      <td>0</td>\n",
       "    </tr>\n",
       "    <tr>\n",
       "      <th>3</th>\n",
       "      <td>ff045934d90aab184dd15e66daf3b3c97193bda5449298...</td>\n",
       "      <td>1</td>\n",
       "      <td>39.671233</td>\n",
       "      <td>0</td>\n",
       "      <td>0</td>\n",
       "      <td>0</td>\n",
       "      <td>0</td>\n",
       "      <td>0</td>\n",
       "      <td>0</td>\n",
       "      <td>0</td>\n",
       "      <td>...</td>\n",
       "      <td>0</td>\n",
       "      <td>2</td>\n",
       "      <td>4</td>\n",
       "      <td>0</td>\n",
       "      <td>0</td>\n",
       "      <td>13</td>\n",
       "      <td>6</td>\n",
       "      <td>4</td>\n",
       "      <td>4</td>\n",
       "      <td>0</td>\n",
       "    </tr>\n",
       "    <tr>\n",
       "      <th>4</th>\n",
       "      <td>a0ce528caab2c62497a548d0ebd9e935143ef81ed7dbf0...</td>\n",
       "      <td>1</td>\n",
       "      <td>20.268493</td>\n",
       "      <td>0</td>\n",
       "      <td>0</td>\n",
       "      <td>0</td>\n",
       "      <td>0</td>\n",
       "      <td>0</td>\n",
       "      <td>0</td>\n",
       "      <td>0</td>\n",
       "      <td>...</td>\n",
       "      <td>1</td>\n",
       "      <td>19</td>\n",
       "      <td>4</td>\n",
       "      <td>0</td>\n",
       "      <td>0</td>\n",
       "      <td>11</td>\n",
       "      <td>47</td>\n",
       "      <td>3</td>\n",
       "      <td>3</td>\n",
       "      <td>0</td>\n",
       "    </tr>\n",
       "  </tbody>\n",
       "</table>\n",
       "<p>5 rows × 41 columns</p>\n",
       "</div>"
      ],
      "text/plain": [
       "                                                  id  fl_matriz  \\\n",
       "0  09e95c1a84049001d086470a8f320a19b076f955a89122...          1   \n",
       "1  dc9d155f5bcd3172031e2ec9431786e8871ff4b0ff4728...          1   \n",
       "2  16843c9ffb920170477118933798510d8d5f00f5c56c12...          1   \n",
       "3  ff045934d90aab184dd15e66daf3b3c97193bda5449298...          1   \n",
       "4  a0ce528caab2c62497a548d0ebd9e935143ef81ed7dbf0...          1   \n",
       "\n",
       "   idade_empresa_anos  fl_me  fl_sa  fl_mei  fl_ltda  fl_st_especial  \\\n",
       "0           11.243836      0      0       0        0               0   \n",
       "1           43.789041      0      0       0        0               0   \n",
       "2           16.389041      0      0       0        0               0   \n",
       "3           39.671233      0      0       0        0               0   \n",
       "4           20.268493      0      0       0        0               0   \n",
       "\n",
       "   fl_email  fl_telefone  ...  nm_segmento  sg_uf_matriz  de_saude_tributaria  \\\n",
       "0         1            1  ...            0             0                    4   \n",
       "1         0            0  ...            0            19                    4   \n",
       "2         0            1  ...           11            16                    4   \n",
       "3         0            0  ...            0             2                    4   \n",
       "4         0            0  ...            1            19                    4   \n",
       "\n",
       "   de_saude_rescencia  de_nivel_atividade  nm_meso_regiao  nm_micro_regiao  \\\n",
       "0                   0                   0              17               57   \n",
       "1                   0                   0               0                1   \n",
       "2                   0                   0               9               11   \n",
       "3                   0                   0              13                6   \n",
       "4                   0                   0              11               47   \n",
       "\n",
       "   de_faixa_faturamento_estimado  de_faixa_faturamento_estimado_grupo  Target  \n",
       "0                              6                                    6       0  \n",
       "1                              4                                    4       0  \n",
       "2                              3                                    3       0  \n",
       "3                              4                                    4       0  \n",
       "4                              3                                    3       0  \n",
       "\n",
       "[5 rows x 41 columns]"
      ]
     },
     "execution_count": 45,
     "metadata": {},
     "output_type": "execute_result"
    }
   ],
   "source": [
    "df_portfolio2_target.head()"
   ]
  },
  {
   "cell_type": "markdown",
   "metadata": {},
   "source": [
    "### Concatenando os dois para que possam formar somente 1 dataframe"
   ]
  },
  {
   "cell_type": "code",
   "execution_count": 51,
   "metadata": {},
   "outputs": [],
   "source": [
    "df_port1_port2 = pd.concat([df_portfolio1_part_target, df_portfolio2_target],axis=0)"
   ]
  },
  {
   "cell_type": "code",
   "execution_count": 52,
   "metadata": {},
   "outputs": [
    {
     "data": {
      "text/html": [
       "<div>\n",
       "<style scoped>\n",
       "    .dataframe tbody tr th:only-of-type {\n",
       "        vertical-align: middle;\n",
       "    }\n",
       "\n",
       "    .dataframe tbody tr th {\n",
       "        vertical-align: top;\n",
       "    }\n",
       "\n",
       "    .dataframe thead th {\n",
       "        text-align: right;\n",
       "    }\n",
       "</style>\n",
       "<table border=\"1\" class=\"dataframe\">\n",
       "  <thead>\n",
       "    <tr style=\"text-align: right;\">\n",
       "      <th></th>\n",
       "      <th>id</th>\n",
       "      <th>fl_matriz</th>\n",
       "      <th>idade_empresa_anos</th>\n",
       "      <th>fl_me</th>\n",
       "      <th>fl_sa</th>\n",
       "      <th>fl_mei</th>\n",
       "      <th>fl_ltda</th>\n",
       "      <th>fl_st_especial</th>\n",
       "      <th>fl_email</th>\n",
       "      <th>fl_telefone</th>\n",
       "      <th>...</th>\n",
       "      <th>nm_segmento</th>\n",
       "      <th>sg_uf_matriz</th>\n",
       "      <th>de_saude_tributaria</th>\n",
       "      <th>de_saude_rescencia</th>\n",
       "      <th>de_nivel_atividade</th>\n",
       "      <th>nm_meso_regiao</th>\n",
       "      <th>nm_micro_regiao</th>\n",
       "      <th>de_faixa_faturamento_estimado</th>\n",
       "      <th>de_faixa_faturamento_estimado_grupo</th>\n",
       "      <th>Target</th>\n",
       "    </tr>\n",
       "  </thead>\n",
       "  <tbody>\n",
       "    <tr>\n",
       "      <th>0</th>\n",
       "      <td>dabe79bec87c88ae04e869bf6bd321ee5e1893cecf6625...</td>\n",
       "      <td>1</td>\n",
       "      <td>0.646575</td>\n",
       "      <td>0</td>\n",
       "      <td>0</td>\n",
       "      <td>1</td>\n",
       "      <td>0</td>\n",
       "      <td>0</td>\n",
       "      <td>0</td>\n",
       "      <td>0</td>\n",
       "      <td>...</td>\n",
       "      <td>9</td>\n",
       "      <td>16</td>\n",
       "      <td>2</td>\n",
       "      <td>4</td>\n",
       "      <td>1</td>\n",
       "      <td>14</td>\n",
       "      <td>61</td>\n",
       "      <td>10</td>\n",
       "      <td>10</td>\n",
       "      <td>1</td>\n",
       "    </tr>\n",
       "    <tr>\n",
       "      <th>1</th>\n",
       "      <td>32e5f4e10932153a7ba869cb0386e7e02d49d2461046b8...</td>\n",
       "      <td>0</td>\n",
       "      <td>6.586301</td>\n",
       "      <td>0</td>\n",
       "      <td>0</td>\n",
       "      <td>0</td>\n",
       "      <td>0</td>\n",
       "      <td>0</td>\n",
       "      <td>1</td>\n",
       "      <td>1</td>\n",
       "      <td>...</td>\n",
       "      <td>9</td>\n",
       "      <td>9</td>\n",
       "      <td>4</td>\n",
       "      <td>0</td>\n",
       "      <td>2</td>\n",
       "      <td>3</td>\n",
       "      <td>44</td>\n",
       "      <td>10</td>\n",
       "      <td>7</td>\n",
       "      <td>1</td>\n",
       "    </tr>\n",
       "    <tr>\n",
       "      <th>2</th>\n",
       "      <td>a95d6f30bba445bd3d6b0c5b36f865b38ec01d17336090...</td>\n",
       "      <td>1</td>\n",
       "      <td>8.010959</td>\n",
       "      <td>0</td>\n",
       "      <td>0</td>\n",
       "      <td>1</td>\n",
       "      <td>0</td>\n",
       "      <td>0</td>\n",
       "      <td>0</td>\n",
       "      <td>0</td>\n",
       "      <td>...</td>\n",
       "      <td>9</td>\n",
       "      <td>9</td>\n",
       "      <td>1</td>\n",
       "      <td>0</td>\n",
       "      <td>2</td>\n",
       "      <td>8</td>\n",
       "      <td>0</td>\n",
       "      <td>1</td>\n",
       "      <td>1</td>\n",
       "      <td>1</td>\n",
       "    </tr>\n",
       "    <tr>\n",
       "      <th>3</th>\n",
       "      <td>6cb309685cea0b6d2988818792ec2e6fcb2bd02e0afa9e...</td>\n",
       "      <td>1</td>\n",
       "      <td>20.863014</td>\n",
       "      <td>0</td>\n",
       "      <td>0</td>\n",
       "      <td>0</td>\n",
       "      <td>0</td>\n",
       "      <td>0</td>\n",
       "      <td>0</td>\n",
       "      <td>0</td>\n",
       "      <td>...</td>\n",
       "      <td>9</td>\n",
       "      <td>19</td>\n",
       "      <td>4</td>\n",
       "      <td>0</td>\n",
       "      <td>0</td>\n",
       "      <td>11</td>\n",
       "      <td>70</td>\n",
       "      <td>1</td>\n",
       "      <td>1</td>\n",
       "      <td>1</td>\n",
       "    </tr>\n",
       "    <tr>\n",
       "      <th>4</th>\n",
       "      <td>f72aa7fa6787b0a5a1c88885b6120850df8ee0f71adc25...</td>\n",
       "      <td>1</td>\n",
       "      <td>18.726027</td>\n",
       "      <td>0</td>\n",
       "      <td>0</td>\n",
       "      <td>0</td>\n",
       "      <td>0</td>\n",
       "      <td>0</td>\n",
       "      <td>1</td>\n",
       "      <td>1</td>\n",
       "      <td>...</td>\n",
       "      <td>9</td>\n",
       "      <td>19</td>\n",
       "      <td>4</td>\n",
       "      <td>0</td>\n",
       "      <td>0</td>\n",
       "      <td>6</td>\n",
       "      <td>48</td>\n",
       "      <td>2</td>\n",
       "      <td>8</td>\n",
       "      <td>1</td>\n",
       "    </tr>\n",
       "  </tbody>\n",
       "</table>\n",
       "<p>5 rows × 41 columns</p>\n",
       "</div>"
      ],
      "text/plain": [
       "                                                  id  fl_matriz  \\\n",
       "0  dabe79bec87c88ae04e869bf6bd321ee5e1893cecf6625...          1   \n",
       "1  32e5f4e10932153a7ba869cb0386e7e02d49d2461046b8...          0   \n",
       "2  a95d6f30bba445bd3d6b0c5b36f865b38ec01d17336090...          1   \n",
       "3  6cb309685cea0b6d2988818792ec2e6fcb2bd02e0afa9e...          1   \n",
       "4  f72aa7fa6787b0a5a1c88885b6120850df8ee0f71adc25...          1   \n",
       "\n",
       "   idade_empresa_anos  fl_me  fl_sa  fl_mei  fl_ltda  fl_st_especial  \\\n",
       "0            0.646575      0      0       1        0               0   \n",
       "1            6.586301      0      0       0        0               0   \n",
       "2            8.010959      0      0       1        0               0   \n",
       "3           20.863014      0      0       0        0               0   \n",
       "4           18.726027      0      0       0        0               0   \n",
       "\n",
       "   fl_email  fl_telefone  ...  nm_segmento  sg_uf_matriz  de_saude_tributaria  \\\n",
       "0         0            0  ...            9            16                    2   \n",
       "1         1            1  ...            9             9                    4   \n",
       "2         0            0  ...            9             9                    1   \n",
       "3         0            0  ...            9            19                    4   \n",
       "4         1            1  ...            9            19                    4   \n",
       "\n",
       "   de_saude_rescencia  de_nivel_atividade  nm_meso_regiao  nm_micro_regiao  \\\n",
       "0                   4                   1              14               61   \n",
       "1                   0                   2               3               44   \n",
       "2                   0                   2               8                0   \n",
       "3                   0                   0              11               70   \n",
       "4                   0                   0               6               48   \n",
       "\n",
       "   de_faixa_faturamento_estimado  de_faixa_faturamento_estimado_grupo  Target  \n",
       "0                             10                                   10       1  \n",
       "1                             10                                    7       1  \n",
       "2                              1                                    1       1  \n",
       "3                              1                                    1       1  \n",
       "4                              2                                    8       1  \n",
       "\n",
       "[5 rows x 41 columns]"
      ]
     },
     "execution_count": 52,
     "metadata": {},
     "output_type": "execute_result"
    }
   ],
   "source": [
    "df_port1_port2.head()"
   ]
  },
  {
   "cell_type": "code",
   "execution_count": 53,
   "metadata": {},
   "outputs": [
    {
     "data": {
      "text/plain": [
       "(1056, 41)"
      ]
     },
     "execution_count": 53,
     "metadata": {},
     "output_type": "execute_result"
    }
   ],
   "source": [
    "df_port1_port2.shape"
   ]
  },
  {
   "cell_type": "markdown",
   "metadata": {},
   "source": [
    "# Colocando o index como Id"
   ]
  },
  {
   "cell_type": "code",
   "execution_count": 54,
   "metadata": {},
   "outputs": [],
   "source": [
    "df_port1_port2_indexid = df_port1_port2.copy()"
   ]
  },
  {
   "cell_type": "code",
   "execution_count": 55,
   "metadata": {},
   "outputs": [],
   "source": [
    "df_port1_port2_indexid.set_index('id', inplace=True)"
   ]
  },
  {
   "cell_type": "code",
   "execution_count": 58,
   "metadata": {},
   "outputs": [
    {
     "data": {
      "text/html": [
       "<div>\n",
       "<style scoped>\n",
       "    .dataframe tbody tr th:only-of-type {\n",
       "        vertical-align: middle;\n",
       "    }\n",
       "\n",
       "    .dataframe tbody tr th {\n",
       "        vertical-align: top;\n",
       "    }\n",
       "\n",
       "    .dataframe thead th {\n",
       "        text-align: right;\n",
       "    }\n",
       "</style>\n",
       "<table border=\"1\" class=\"dataframe\">\n",
       "  <thead>\n",
       "    <tr style=\"text-align: right;\">\n",
       "      <th></th>\n",
       "      <th>fl_matriz</th>\n",
       "      <th>idade_empresa_anos</th>\n",
       "      <th>fl_me</th>\n",
       "      <th>fl_sa</th>\n",
       "      <th>fl_mei</th>\n",
       "      <th>fl_ltda</th>\n",
       "      <th>fl_st_especial</th>\n",
       "      <th>fl_email</th>\n",
       "      <th>fl_telefone</th>\n",
       "      <th>fl_rm</th>\n",
       "      <th>...</th>\n",
       "      <th>nm_segmento</th>\n",
       "      <th>sg_uf_matriz</th>\n",
       "      <th>de_saude_tributaria</th>\n",
       "      <th>de_saude_rescencia</th>\n",
       "      <th>de_nivel_atividade</th>\n",
       "      <th>nm_meso_regiao</th>\n",
       "      <th>nm_micro_regiao</th>\n",
       "      <th>de_faixa_faturamento_estimado</th>\n",
       "      <th>de_faixa_faturamento_estimado_grupo</th>\n",
       "      <th>Target</th>\n",
       "    </tr>\n",
       "    <tr>\n",
       "      <th>id</th>\n",
       "      <th></th>\n",
       "      <th></th>\n",
       "      <th></th>\n",
       "      <th></th>\n",
       "      <th></th>\n",
       "      <th></th>\n",
       "      <th></th>\n",
       "      <th></th>\n",
       "      <th></th>\n",
       "      <th></th>\n",
       "      <th></th>\n",
       "      <th></th>\n",
       "      <th></th>\n",
       "      <th></th>\n",
       "      <th></th>\n",
       "      <th></th>\n",
       "      <th></th>\n",
       "      <th></th>\n",
       "      <th></th>\n",
       "      <th></th>\n",
       "      <th></th>\n",
       "    </tr>\n",
       "  </thead>\n",
       "  <tbody>\n",
       "    <tr>\n",
       "      <th>dabe79bec87c88ae04e869bf6bd321ee5e1893cecf66255be9ea861a9e5841a9</th>\n",
       "      <td>1</td>\n",
       "      <td>0.646575</td>\n",
       "      <td>0</td>\n",
       "      <td>0</td>\n",
       "      <td>1</td>\n",
       "      <td>0</td>\n",
       "      <td>0</td>\n",
       "      <td>0</td>\n",
       "      <td>0</td>\n",
       "      <td>0</td>\n",
       "      <td>...</td>\n",
       "      <td>9</td>\n",
       "      <td>16</td>\n",
       "      <td>2</td>\n",
       "      <td>4</td>\n",
       "      <td>1</td>\n",
       "      <td>14</td>\n",
       "      <td>61</td>\n",
       "      <td>10</td>\n",
       "      <td>10</td>\n",
       "      <td>1</td>\n",
       "    </tr>\n",
       "    <tr>\n",
       "      <th>32e5f4e10932153a7ba869cb0386e7e02d49d2461046b866411556d2af150702</th>\n",
       "      <td>0</td>\n",
       "      <td>6.586301</td>\n",
       "      <td>0</td>\n",
       "      <td>0</td>\n",
       "      <td>0</td>\n",
       "      <td>0</td>\n",
       "      <td>0</td>\n",
       "      <td>1</td>\n",
       "      <td>1</td>\n",
       "      <td>0</td>\n",
       "      <td>...</td>\n",
       "      <td>9</td>\n",
       "      <td>9</td>\n",
       "      <td>4</td>\n",
       "      <td>0</td>\n",
       "      <td>2</td>\n",
       "      <td>3</td>\n",
       "      <td>44</td>\n",
       "      <td>10</td>\n",
       "      <td>7</td>\n",
       "      <td>1</td>\n",
       "    </tr>\n",
       "    <tr>\n",
       "      <th>a95d6f30bba445bd3d6b0c5b36f865b38ec01d1733609095d359649cfedf15d1</th>\n",
       "      <td>1</td>\n",
       "      <td>8.010959</td>\n",
       "      <td>0</td>\n",
       "      <td>0</td>\n",
       "      <td>1</td>\n",
       "      <td>0</td>\n",
       "      <td>0</td>\n",
       "      <td>0</td>\n",
       "      <td>0</td>\n",
       "      <td>1</td>\n",
       "      <td>...</td>\n",
       "      <td>9</td>\n",
       "      <td>9</td>\n",
       "      <td>1</td>\n",
       "      <td>0</td>\n",
       "      <td>2</td>\n",
       "      <td>8</td>\n",
       "      <td>0</td>\n",
       "      <td>1</td>\n",
       "      <td>1</td>\n",
       "      <td>1</td>\n",
       "    </tr>\n",
       "    <tr>\n",
       "      <th>6cb309685cea0b6d2988818792ec2e6fcb2bd02e0afa9e74532d5040fbc933b8</th>\n",
       "      <td>1</td>\n",
       "      <td>20.863014</td>\n",
       "      <td>0</td>\n",
       "      <td>0</td>\n",
       "      <td>0</td>\n",
       "      <td>0</td>\n",
       "      <td>0</td>\n",
       "      <td>0</td>\n",
       "      <td>0</td>\n",
       "      <td>0</td>\n",
       "      <td>...</td>\n",
       "      <td>9</td>\n",
       "      <td>19</td>\n",
       "      <td>4</td>\n",
       "      <td>0</td>\n",
       "      <td>0</td>\n",
       "      <td>11</td>\n",
       "      <td>70</td>\n",
       "      <td>1</td>\n",
       "      <td>1</td>\n",
       "      <td>1</td>\n",
       "    </tr>\n",
       "    <tr>\n",
       "      <th>f72aa7fa6787b0a5a1c88885b6120850df8ee0f71adc251dfe8d321e9e6de7f5</th>\n",
       "      <td>1</td>\n",
       "      <td>18.726027</td>\n",
       "      <td>0</td>\n",
       "      <td>0</td>\n",
       "      <td>0</td>\n",
       "      <td>0</td>\n",
       "      <td>0</td>\n",
       "      <td>1</td>\n",
       "      <td>1</td>\n",
       "      <td>1</td>\n",
       "      <td>...</td>\n",
       "      <td>9</td>\n",
       "      <td>19</td>\n",
       "      <td>4</td>\n",
       "      <td>0</td>\n",
       "      <td>0</td>\n",
       "      <td>6</td>\n",
       "      <td>48</td>\n",
       "      <td>2</td>\n",
       "      <td>8</td>\n",
       "      <td>1</td>\n",
       "    </tr>\n",
       "  </tbody>\n",
       "</table>\n",
       "<p>5 rows × 40 columns</p>\n",
       "</div>"
      ],
      "text/plain": [
       "                                                    fl_matriz  \\\n",
       "id                                                              \n",
       "dabe79bec87c88ae04e869bf6bd321ee5e1893cecf66255...          1   \n",
       "32e5f4e10932153a7ba869cb0386e7e02d49d2461046b86...          0   \n",
       "a95d6f30bba445bd3d6b0c5b36f865b38ec01d173360909...          1   \n",
       "6cb309685cea0b6d2988818792ec2e6fcb2bd02e0afa9e7...          1   \n",
       "f72aa7fa6787b0a5a1c88885b6120850df8ee0f71adc251...          1   \n",
       "\n",
       "                                                    idade_empresa_anos  fl_me  \\\n",
       "id                                                                              \n",
       "dabe79bec87c88ae04e869bf6bd321ee5e1893cecf66255...            0.646575      0   \n",
       "32e5f4e10932153a7ba869cb0386e7e02d49d2461046b86...            6.586301      0   \n",
       "a95d6f30bba445bd3d6b0c5b36f865b38ec01d173360909...            8.010959      0   \n",
       "6cb309685cea0b6d2988818792ec2e6fcb2bd02e0afa9e7...           20.863014      0   \n",
       "f72aa7fa6787b0a5a1c88885b6120850df8ee0f71adc251...           18.726027      0   \n",
       "\n",
       "                                                    fl_sa  fl_mei  fl_ltda  \\\n",
       "id                                                                           \n",
       "dabe79bec87c88ae04e869bf6bd321ee5e1893cecf66255...      0       1        0   \n",
       "32e5f4e10932153a7ba869cb0386e7e02d49d2461046b86...      0       0        0   \n",
       "a95d6f30bba445bd3d6b0c5b36f865b38ec01d173360909...      0       1        0   \n",
       "6cb309685cea0b6d2988818792ec2e6fcb2bd02e0afa9e7...      0       0        0   \n",
       "f72aa7fa6787b0a5a1c88885b6120850df8ee0f71adc251...      0       0        0   \n",
       "\n",
       "                                                    fl_st_especial  fl_email  \\\n",
       "id                                                                             \n",
       "dabe79bec87c88ae04e869bf6bd321ee5e1893cecf66255...               0         0   \n",
       "32e5f4e10932153a7ba869cb0386e7e02d49d2461046b86...               0         1   \n",
       "a95d6f30bba445bd3d6b0c5b36f865b38ec01d173360909...               0         0   \n",
       "6cb309685cea0b6d2988818792ec2e6fcb2bd02e0afa9e7...               0         0   \n",
       "f72aa7fa6787b0a5a1c88885b6120850df8ee0f71adc251...               0         1   \n",
       "\n",
       "                                                    fl_telefone  fl_rm  ...  \\\n",
       "id                                                                      ...   \n",
       "dabe79bec87c88ae04e869bf6bd321ee5e1893cecf66255...            0      0  ...   \n",
       "32e5f4e10932153a7ba869cb0386e7e02d49d2461046b86...            1      0  ...   \n",
       "a95d6f30bba445bd3d6b0c5b36f865b38ec01d173360909...            0      1  ...   \n",
       "6cb309685cea0b6d2988818792ec2e6fcb2bd02e0afa9e7...            0      0  ...   \n",
       "f72aa7fa6787b0a5a1c88885b6120850df8ee0f71adc251...            1      1  ...   \n",
       "\n",
       "                                                    nm_segmento  sg_uf_matriz  \\\n",
       "id                                                                              \n",
       "dabe79bec87c88ae04e869bf6bd321ee5e1893cecf66255...            9            16   \n",
       "32e5f4e10932153a7ba869cb0386e7e02d49d2461046b86...            9             9   \n",
       "a95d6f30bba445bd3d6b0c5b36f865b38ec01d173360909...            9             9   \n",
       "6cb309685cea0b6d2988818792ec2e6fcb2bd02e0afa9e7...            9            19   \n",
       "f72aa7fa6787b0a5a1c88885b6120850df8ee0f71adc251...            9            19   \n",
       "\n",
       "                                                    de_saude_tributaria  \\\n",
       "id                                                                        \n",
       "dabe79bec87c88ae04e869bf6bd321ee5e1893cecf66255...                    2   \n",
       "32e5f4e10932153a7ba869cb0386e7e02d49d2461046b86...                    4   \n",
       "a95d6f30bba445bd3d6b0c5b36f865b38ec01d173360909...                    1   \n",
       "6cb309685cea0b6d2988818792ec2e6fcb2bd02e0afa9e7...                    4   \n",
       "f72aa7fa6787b0a5a1c88885b6120850df8ee0f71adc251...                    4   \n",
       "\n",
       "                                                    de_saude_rescencia  \\\n",
       "id                                                                       \n",
       "dabe79bec87c88ae04e869bf6bd321ee5e1893cecf66255...                   4   \n",
       "32e5f4e10932153a7ba869cb0386e7e02d49d2461046b86...                   0   \n",
       "a95d6f30bba445bd3d6b0c5b36f865b38ec01d173360909...                   0   \n",
       "6cb309685cea0b6d2988818792ec2e6fcb2bd02e0afa9e7...                   0   \n",
       "f72aa7fa6787b0a5a1c88885b6120850df8ee0f71adc251...                   0   \n",
       "\n",
       "                                                    de_nivel_atividade  \\\n",
       "id                                                                       \n",
       "dabe79bec87c88ae04e869bf6bd321ee5e1893cecf66255...                   1   \n",
       "32e5f4e10932153a7ba869cb0386e7e02d49d2461046b86...                   2   \n",
       "a95d6f30bba445bd3d6b0c5b36f865b38ec01d173360909...                   2   \n",
       "6cb309685cea0b6d2988818792ec2e6fcb2bd02e0afa9e7...                   0   \n",
       "f72aa7fa6787b0a5a1c88885b6120850df8ee0f71adc251...                   0   \n",
       "\n",
       "                                                    nm_meso_regiao  \\\n",
       "id                                                                   \n",
       "dabe79bec87c88ae04e869bf6bd321ee5e1893cecf66255...              14   \n",
       "32e5f4e10932153a7ba869cb0386e7e02d49d2461046b86...               3   \n",
       "a95d6f30bba445bd3d6b0c5b36f865b38ec01d173360909...               8   \n",
       "6cb309685cea0b6d2988818792ec2e6fcb2bd02e0afa9e7...              11   \n",
       "f72aa7fa6787b0a5a1c88885b6120850df8ee0f71adc251...               6   \n",
       "\n",
       "                                                    nm_micro_regiao  \\\n",
       "id                                                                    \n",
       "dabe79bec87c88ae04e869bf6bd321ee5e1893cecf66255...               61   \n",
       "32e5f4e10932153a7ba869cb0386e7e02d49d2461046b86...               44   \n",
       "a95d6f30bba445bd3d6b0c5b36f865b38ec01d173360909...                0   \n",
       "6cb309685cea0b6d2988818792ec2e6fcb2bd02e0afa9e7...               70   \n",
       "f72aa7fa6787b0a5a1c88885b6120850df8ee0f71adc251...               48   \n",
       "\n",
       "                                                    de_faixa_faturamento_estimado  \\\n",
       "id                                                                                  \n",
       "dabe79bec87c88ae04e869bf6bd321ee5e1893cecf66255...                             10   \n",
       "32e5f4e10932153a7ba869cb0386e7e02d49d2461046b86...                             10   \n",
       "a95d6f30bba445bd3d6b0c5b36f865b38ec01d173360909...                              1   \n",
       "6cb309685cea0b6d2988818792ec2e6fcb2bd02e0afa9e7...                              1   \n",
       "f72aa7fa6787b0a5a1c88885b6120850df8ee0f71adc251...                              2   \n",
       "\n",
       "                                                    de_faixa_faturamento_estimado_grupo  \\\n",
       "id                                                                                        \n",
       "dabe79bec87c88ae04e869bf6bd321ee5e1893cecf66255...                                   10   \n",
       "32e5f4e10932153a7ba869cb0386e7e02d49d2461046b86...                                    7   \n",
       "a95d6f30bba445bd3d6b0c5b36f865b38ec01d173360909...                                    1   \n",
       "6cb309685cea0b6d2988818792ec2e6fcb2bd02e0afa9e7...                                    1   \n",
       "f72aa7fa6787b0a5a1c88885b6120850df8ee0f71adc251...                                    8   \n",
       "\n",
       "                                                    Target  \n",
       "id                                                          \n",
       "dabe79bec87c88ae04e869bf6bd321ee5e1893cecf66255...       1  \n",
       "32e5f4e10932153a7ba869cb0386e7e02d49d2461046b86...       1  \n",
       "a95d6f30bba445bd3d6b0c5b36f865b38ec01d173360909...       1  \n",
       "6cb309685cea0b6d2988818792ec2e6fcb2bd02e0afa9e7...       1  \n",
       "f72aa7fa6787b0a5a1c88885b6120850df8ee0f71adc251...       1  \n",
       "\n",
       "[5 rows x 40 columns]"
      ]
     },
     "execution_count": 58,
     "metadata": {},
     "output_type": "execute_result"
    }
   ],
   "source": [
    "df_port1_port2_indexid.head()"
   ]
  },
  {
   "cell_type": "markdown",
   "metadata": {},
   "source": [
    "## Analisando o balancemento das targets"
   ]
  },
  {
   "cell_type": "code",
   "execution_count": 59,
   "metadata": {},
   "outputs": [
    {
     "data": {
      "text/plain": [
       "<matplotlib.axes._subplots.AxesSubplot at 0x7f6844b40080>"
      ]
     },
     "execution_count": 59,
     "metadata": {},
     "output_type": "execute_result"
    },
    {
     "data": {
      "image/png": "[encoded data removed]",
      "text/plain": [
       "<Figure size 432x288 with 1 Axes>"
      ]
     },
     "metadata": {},
     "output_type": "display_data"
    }
   ],
   "source": [
    "sns.set_style('whitegrid')\n",
    "df_port1_port2_indexid['Target'].value_counts().plot(kind = 'bar')"
   ]
  },
  {
   "cell_type": "code",
   "execution_count": 60,
   "metadata": {},
   "outputs": [],
   "source": [
    "#Criando o X e y\n",
    "X = df_port1_port2_indexid.drop('Target', axis=1)\n",
    "y = df_port1_port2_indexid['Target']"
   ]
  },
  {
   "cell_type": "code",
   "execution_count": 62,
   "metadata": {},
   "outputs": [
    {
     "data": {
      "image/png": "[encoded data removed]",
      "text/plain": [
       "<Figure size 1440x1440 with 1 Axes>"
      ]
     },
     "metadata": {},
     "output_type": "display_data"
    },
    {
     "data": {
      "text/plain": [
       "<matplotlib.axes._subplots.AxesSubplot at 0x7f682a68fc50>"
      ]
     },
     "execution_count": 62,
     "metadata": {},
     "output_type": "execute_result"
    }
   ],
   "source": [
    "#Visualização da importancia das features usando Shapiro\n",
    "from yellowbrick.features import Rank1D\n",
    "# Criando o visualizador\n",
    "visualizer = Rank1D(algorithm='shapiro')\n",
    "plt.figure(figsize=(20,20))\n",
    "visualizer.fit(X, y)           # Fit nos dados para o visualizer\n",
    "visualizer.transform(X)        # Tranformando os dados\n",
    "visualizer.show()              # Imprimindo as figuras"
   ]
  },
  {
   "cell_type": "markdown",
   "metadata": {},
   "source": [
    "## Fazendo aprendizado supervisionado Classificação para aprender quem é do portfólio 1 e quem é do portfólio 2"
   ]
  },
  {
   "cell_type": "markdown",
   "metadata": {},
   "source": [
    "### Separando a base em treino e teste"
   ]
  },
  {
   "cell_type": "code",
   "execution_count": 65,
   "metadata": {},
   "outputs": [],
   "source": [
    "from sklearn.model_selection import train_test_split"
   ]
  },
  {
   "cell_type": "code",
   "execution_count": 113,
   "metadata": {},
   "outputs": [],
   "source": [
    "X_train, X_test, y_train, y_test = train_test_split(X, y, test_size = 0.2, random_state = 42)"
   ]
  },
  {
   "cell_type": "code",
   "execution_count": 63,
   "metadata": {},
   "outputs": [
    {
     "name": "stderr",
     "output_type": "stream",
     "text": [
      "/home/luiz/anaconda3/lib/python3.7/site-packages/sklearn/utils/deprecation.py:144: FutureWarning: The sklearn.metrics.scorer module is  deprecated in version 0.22 and will be removed in version 0.24. The corresponding classes / functions should instead be imported from sklearn.metrics. Anything that cannot be imported from sklearn.metrics is now part of the private API.\n",
      "  warnings.warn(message, FutureWarning)\n",
      "/home/luiz/anaconda3/lib/python3.7/site-packages/sklearn/utils/deprecation.py:144: FutureWarning: The sklearn.feature_selection.base module is  deprecated in version 0.22 and will be removed in version 0.24. The corresponding classes / functions should instead be imported from sklearn.feature_selection. Anything that cannot be imported from sklearn.feature_selection is now part of the private API.\n",
      "  warnings.warn(message, FutureWarning)\n"
     ]
    }
   ],
   "source": [
    "from tpot import TPOTClassifier"
   ]
  },
  {
   "cell_type": "code",
   "execution_count": 114,
   "metadata": {},
   "outputs": [],
   "source": [
    "tp = TPOTClassifier(generations=10, population_size=20, cv=5,\n",
    "                                    random_state=42, verbosity=2)"
   ]
  },
  {
   "cell_type": "code",
   "execution_count": 115,
   "metadata": {},
   "outputs": [
    {
     "name": "stdout",
     "output_type": "stream",
     "text": [
      "Warning: xgboost.XGBClassifier is not available and will not be used by TPOT.\n"
     ]
    },
    {
     "data": {
      "application/vnd.jupyter.widget-view+json": {
       "model_id": "",
       "version_major": 2,
       "version_minor": 0
      },
      "text/plain": [
       "HBox(children=(IntProgress(value=0, description='Optimization Progress', max=220, style=ProgressStyle(descript…"
      ]
     },
     "metadata": {},
     "output_type": "display_data"
    },
    {
     "name": "stdout",
     "output_type": "stream",
     "text": [
      "Generation 1 - Current best internal CV score: 1.0\n",
      "Generation 2 - Current best internal CV score: 1.0\n",
      "Generation 3 - Current best internal CV score: 1.0\n",
      "Generation 4 - Current best internal CV score: 1.0\n",
      "Generation 5 - Current best internal CV score: 1.0\n",
      "Generation 6 - Current best internal CV score: 1.0\n",
      "Generation 7 - Current best internal CV score: 1.0\n",
      "Generation 8 - Current best internal CV score: 1.0\n",
      "Generation 9 - Current best internal CV score: 1.0\n",
      "Generation 10 - Current best internal CV score: 1.0\n",
      "\n",
      "Best pipeline: DecisionTreeClassifier(input_matrix, criterion=gini, max_depth=7, min_samples_leaf=18, min_samples_split=17)\n"
     ]
    },
    {
     "data": {
      "text/plain": [
       "TPOTClassifier(config_dict=None, crossover_rate=0.1, cv=5,\n",
       "               disable_update_check=False, early_stop=None, generations=10,\n",
       "               max_eval_time_mins=5, max_time_mins=None, memory=None,\n",
       "               mutation_rate=0.9, n_jobs=1, offspring_size=None,\n",
       "               periodic_checkpoint_folder=None, population_size=20,\n",
       "               random_state=42, scoring=None, subsample=1.0, template=None,\n",
       "               use_dask=False, verbosity=2, warm_start=False)"
      ]
     },
     "execution_count": 115,
     "metadata": {},
     "output_type": "execute_result"
    }
   ],
   "source": [
    "tp.fit(X_train, y_train)"
   ]
  },
  {
   "cell_type": "code",
   "execution_count": 72,
   "metadata": {},
   "outputs": [
    {
     "name": "stdout",
     "output_type": "stream",
     "text": [
      "import numpy as np\n",
      "import pandas as pd\n",
      "from sklearn.model_selection import train_test_split\n",
      "from sklearn.tree import DecisionTreeClassifier\n",
      "from tpot.export_utils import set_param_recursive\n",
      "\n",
      "# NOTE: Make sure that the outcome column is labeled 'target' in the data file\n",
      "tpot_data = pd.read_csv('PATH/TO/DATA/FILE', sep='COLUMN_SEPARATOR', dtype=np.float64)\n",
      "features = tpot_data.drop('target', axis=1)\n",
      "training_features, testing_features, training_target, testing_target = \\\n",
      "            train_test_split(features, tpot_data['target'], random_state=42)\n",
      "\n",
      "# Average CV score on the training set was: 0.9988165680473372\n",
      "exported_pipeline = DecisionTreeClassifier(criterion=\"gini\", max_depth=7, min_samples_leaf=18, min_samples_split=17)\n",
      "# Fix random state for all the steps in exported pipeline\n",
      "set_param_recursive(exported_pipeline.steps, 'random_state', 42)\n",
      "\n",
      "exported_pipeline.fit(training_features, training_target)\n",
      "results = exported_pipeline.predict(testing_features)\n",
      "\n"
     ]
    }
   ],
   "source": [
    "#exportanod o modelo\n",
    "tp.export('modelo.py')\n",
    "with open('modelo.py') as pipe:\n",
    "    print(\"\".join(pipe.readlines()))"
   ]
  },
  {
   "cell_type": "code",
   "execution_count": 120,
   "metadata": {},
   "outputs": [],
   "source": [
    "from sklearn.tree import DecisionTreeClassifier"
   ]
  },
  {
   "cell_type": "code",
   "execution_count": 121,
   "metadata": {},
   "outputs": [],
   "source": [
    "exported_pipeline = DecisionTreeClassifier(criterion=\"gini\", max_depth=7, min_samples_leaf=18, min_samples_split=17)"
   ]
  },
  {
   "cell_type": "code",
   "execution_count": 122,
   "metadata": {},
   "outputs": [],
   "source": [
    "model = exported_pipeline.fit(X_train, y_train)\n",
    "y_pred = exported_pipeline.predict(X_test)"
   ]
  },
  {
   "cell_type": "markdown",
   "metadata": {},
   "source": [
    "## Curva ROC"
   ]
  },
  {
   "cell_type": "code",
   "execution_count": 123,
   "metadata": {},
   "outputs": [
    {
     "name": "stderr",
     "output_type": "stream",
     "text": [
      "/home/luiz/anaconda3/lib/python3.7/site-packages/sklearn/base.py:197: FutureWarning: From version 0.24, get_params will raise an AttributeError if a parameter cannot be retrieved as an instance attribute. Previously it would return None.\n",
      "  FutureWarning)\n"
     ]
    },
    {
     "data": {
      "image/png": "[encoded data removed]",
      "text/plain": [
       "<Figure size 576x396 with 1 Axes>"
      ]
     },
     "metadata": {},
     "output_type": "display_data"
    },
    {
     "data": {
      "text/plain": [
       "<matplotlib.axes._subplots.AxesSubplot at 0x7f6847770ef0>"
      ]
     },
     "execution_count": 123,
     "metadata": {},
     "output_type": "execute_result"
    }
   ],
   "source": [
    "#Curva ROC e Area Abaixo da Curva\n",
    "from yellowbrick.classifier import ROCAUC\n",
    "from yellowbrick.datasets import load_spam\n",
    "\n",
    "visualizer = ROCAUC(model)\n",
    "visualizer.fit(X_train, y_train)        \n",
    "visualizer.score(X_test, y_test)        \n",
    "visualizer.show()"
   ]
  },
  {
   "cell_type": "code",
   "execution_count": 124,
   "metadata": {},
   "outputs": [],
   "source": [
    "from sklearn.metrics import accuracy_score, classification_report, confusion_matrix"
   ]
  },
  {
   "cell_type": "code",
   "execution_count": 125,
   "metadata": {},
   "outputs": [
    {
     "name": "stdout",
     "output_type": "stream",
     "text": [
      "              precision    recall  f1-score   support\n",
      "\n",
      "           0       0.99      1.00      1.00       103\n",
      "           1       1.00      0.99      1.00       109\n",
      "\n",
      "    accuracy                           1.00       212\n",
      "   macro avg       1.00      1.00      1.00       212\n",
      "weighted avg       1.00      1.00      1.00       212\n",
      "\n"
     ]
    }
   ],
   "source": [
    "print(classification_report(y_pred=y_pred, y_true=y_test))"
   ]
  },
  {
   "cell_type": "code",
   "execution_count": 126,
   "metadata": {},
   "outputs": [
    {
     "data": {
      "text/plain": [
       "array([[103,   0],\n",
       "       [  1, 108]])"
      ]
     },
     "execution_count": 126,
     "metadata": {},
     "output_type": "execute_result"
    }
   ],
   "source": [
    "confusion_matrix(y_pred=y_pred, y_true=y_test)"
   ]
  },
  {
   "cell_type": "code",
   "execution_count": 127,
   "metadata": {},
   "outputs": [
    {
     "name": "stdout",
     "output_type": "stream",
     "text": [
      "Acurácia (base de treinamento): 1.0\n",
      "Acurácia de previsão: 0.9952830188679245\n"
     ]
    }
   ],
   "source": [
    "print(\"Acurácia (base de treinamento):\", model.score(X_train, y_train))\n",
    "print(\"Acurácia de previsão:\", accuracy_score(y_test, y_pred))"
   ]
  },
  {
   "cell_type": "code",
   "execution_count": 130,
   "metadata": {},
   "outputs": [
    {
     "data": {
      "text/plain": [
       "id\n",
       "8bf9b8043991c418e97721eff8d2e84a72d69d237c9246133b3c01a057874a29    1\n",
       "da2d92bb9537e68f2a2a849d202b5ec594fd2a7ea5331ec59ede2ab22f317089    0\n",
       "9e3e4ebed442ded90bd38a5e75a7cc24acc849412a585e5dfa945a691da8aaf9    1\n",
       "86e04ba79ab860c371af15b48019844e4447118fe7492d61638d9ce978dbf28b    1\n",
       "a4391505b694dcdab1f808fe9028054a106d3df6054ec8f182613b0e178894e9    1\n",
       "Name: Target, dtype: int64"
      ]
     },
     "execution_count": 130,
     "metadata": {},
     "output_type": "execute_result"
    }
   ],
   "source": [
    "y_test.tail()"
   ]
  },
  {
   "cell_type": "code",
   "execution_count": 129,
   "metadata": {},
   "outputs": [
    {
     "data": {
      "text/plain": [
       "array([1, 0, 0, 0, 1, 1, 1, 0, 1, 0, 1, 1, 1, 1, 0, 1, 1, 0, 1, 1, 1, 0,\n",
       "       0, 1, 1, 0, 1, 0, 0, 0, 0, 0, 1, 1, 1, 0, 1, 0, 1, 0, 0, 0, 1, 0,\n",
       "       0, 1, 1, 1, 1, 1, 0, 0, 0, 0, 1, 0, 1, 0, 1, 0, 0, 0, 1, 1, 1, 1,\n",
       "       1, 0, 0, 0, 0, 0, 1, 0, 0, 1, 1, 0, 0, 1, 1, 0, 0, 1, 0, 1, 0, 1,\n",
       "       0, 1, 1, 0, 1, 1, 1, 0, 0, 0, 0, 0, 0, 1, 0, 0, 0, 0, 1, 0, 0, 1,\n",
       "       0, 0, 0, 1, 1, 1, 0, 0, 0, 0, 1, 1, 0, 0, 1, 1, 1, 1, 1, 0, 0, 0,\n",
       "       0, 1, 0, 1, 1, 0, 1, 1, 1, 1, 1, 0, 1, 1, 1, 1, 1, 0, 0, 0, 0, 1,\n",
       "       0, 1, 1, 1, 1, 1, 1, 1, 0, 1, 0, 0, 0, 1, 1, 0, 1, 0, 0, 1, 0, 1,\n",
       "       1, 1, 0, 0, 0, 1, 1, 0, 1, 1, 1, 0, 0, 0, 0, 1, 0, 1, 0, 0, 0, 1,\n",
       "       1, 0, 0, 1, 0, 1, 1, 0, 1, 1, 0, 1, 1, 1])"
      ]
     },
     "execution_count": 129,
     "metadata": {},
     "output_type": "execute_result"
    }
   ],
   "source": [
    "y_pred"
   ]
  },
  {
   "cell_type": "markdown",
   "metadata": {},
   "source": [
    "## Prevendo agora no market com a amostra tirada também do portfólio 1"
   ]
  },
  {
   "cell_type": "code",
   "execution_count": 94,
   "metadata": {},
   "outputs": [
    {
     "data": {
      "text/html": [
       "<div>\n",
       "<style scoped>\n",
       "    .dataframe tbody tr th:only-of-type {\n",
       "        vertical-align: middle;\n",
       "    }\n",
       "\n",
       "    .dataframe tbody tr th {\n",
       "        vertical-align: top;\n",
       "    }\n",
       "\n",
       "    .dataframe thead th {\n",
       "        text-align: right;\n",
       "    }\n",
       "</style>\n",
       "<table border=\"1\" class=\"dataframe\">\n",
       "  <thead>\n",
       "    <tr style=\"text-align: right;\">\n",
       "      <th></th>\n",
       "      <th>id</th>\n",
       "      <th>fl_matriz</th>\n",
       "      <th>idade_empresa_anos</th>\n",
       "      <th>fl_me</th>\n",
       "      <th>fl_sa</th>\n",
       "      <th>fl_mei</th>\n",
       "      <th>fl_ltda</th>\n",
       "      <th>fl_st_especial</th>\n",
       "      <th>fl_email</th>\n",
       "      <th>fl_telefone</th>\n",
       "      <th>...</th>\n",
       "      <th>nm_divisao</th>\n",
       "      <th>nm_segmento</th>\n",
       "      <th>sg_uf_matriz</th>\n",
       "      <th>de_saude_tributaria</th>\n",
       "      <th>de_saude_rescencia</th>\n",
       "      <th>de_nivel_atividade</th>\n",
       "      <th>nm_meso_regiao</th>\n",
       "      <th>nm_micro_regiao</th>\n",
       "      <th>de_faixa_faturamento_estimado</th>\n",
       "      <th>de_faixa_faturamento_estimado_grupo</th>\n",
       "    </tr>\n",
       "  </thead>\n",
       "  <tbody>\n",
       "    <tr>\n",
       "      <th>490</th>\n",
       "      <td>7b31a8c2bf7011c7928cffb9f8225075e7ec2d638ce94e...</td>\n",
       "      <td>1</td>\n",
       "      <td>13.583562</td>\n",
       "      <td>0</td>\n",
       "      <td>0</td>\n",
       "      <td>0</td>\n",
       "      <td>0</td>\n",
       "      <td>0</td>\n",
       "      <td>0</td>\n",
       "      <td>0</td>\n",
       "      <td>...</td>\n",
       "      <td>30</td>\n",
       "      <td>9</td>\n",
       "      <td>20</td>\n",
       "      <td>3</td>\n",
       "      <td>0</td>\n",
       "      <td>1</td>\n",
       "      <td>19</td>\n",
       "      <td>73</td>\n",
       "      <td>10</td>\n",
       "      <td>10</td>\n",
       "    </tr>\n",
       "    <tr>\n",
       "      <th>491</th>\n",
       "      <td>aeb22f0dffd6635c319d3de4e465d045b827b1ae490d84...</td>\n",
       "      <td>1</td>\n",
       "      <td>6.706849</td>\n",
       "      <td>0</td>\n",
       "      <td>0</td>\n",
       "      <td>0</td>\n",
       "      <td>0</td>\n",
       "      <td>0</td>\n",
       "      <td>1</td>\n",
       "      <td>1</td>\n",
       "      <td>...</td>\n",
       "      <td>30</td>\n",
       "      <td>9</td>\n",
       "      <td>9</td>\n",
       "      <td>1</td>\n",
       "      <td>0</td>\n",
       "      <td>2</td>\n",
       "      <td>10</td>\n",
       "      <td>30</td>\n",
       "      <td>10</td>\n",
       "      <td>10</td>\n",
       "    </tr>\n",
       "    <tr>\n",
       "      <th>492</th>\n",
       "      <td>73af4232ce27d5eefab9ccf9c77b3678b3beab9d675852...</td>\n",
       "      <td>1</td>\n",
       "      <td>1.624658</td>\n",
       "      <td>0</td>\n",
       "      <td>0</td>\n",
       "      <td>1</td>\n",
       "      <td>0</td>\n",
       "      <td>0</td>\n",
       "      <td>1</td>\n",
       "      <td>1</td>\n",
       "      <td>...</td>\n",
       "      <td>30</td>\n",
       "      <td>9</td>\n",
       "      <td>19</td>\n",
       "      <td>2</td>\n",
       "      <td>1</td>\n",
       "      <td>2</td>\n",
       "      <td>6</td>\n",
       "      <td>48</td>\n",
       "      <td>10</td>\n",
       "      <td>10</td>\n",
       "    </tr>\n",
       "    <tr>\n",
       "      <th>493</th>\n",
       "      <td>37a308088cc7793d61413571e197ecf18e4b9fbc96fa88...</td>\n",
       "      <td>1</td>\n",
       "      <td>31.424658</td>\n",
       "      <td>0</td>\n",
       "      <td>0</td>\n",
       "      <td>0</td>\n",
       "      <td>0</td>\n",
       "      <td>0</td>\n",
       "      <td>0</td>\n",
       "      <td>0</td>\n",
       "      <td>...</td>\n",
       "      <td>30</td>\n",
       "      <td>9</td>\n",
       "      <td>2</td>\n",
       "      <td>4</td>\n",
       "      <td>0</td>\n",
       "      <td>0</td>\n",
       "      <td>2</td>\n",
       "      <td>23</td>\n",
       "      <td>10</td>\n",
       "      <td>10</td>\n",
       "    </tr>\n",
       "    <tr>\n",
       "      <th>494</th>\n",
       "      <td>a05a86ad99266c82bbb2a7019826ce2d8e64569cc3b4f5...</td>\n",
       "      <td>1</td>\n",
       "      <td>3.460274</td>\n",
       "      <td>0</td>\n",
       "      <td>0</td>\n",
       "      <td>0</td>\n",
       "      <td>0</td>\n",
       "      <td>0</td>\n",
       "      <td>1</td>\n",
       "      <td>1</td>\n",
       "      <td>...</td>\n",
       "      <td>30</td>\n",
       "      <td>9</td>\n",
       "      <td>9</td>\n",
       "      <td>4</td>\n",
       "      <td>0</td>\n",
       "      <td>0</td>\n",
       "      <td>8</td>\n",
       "      <td>0</td>\n",
       "      <td>2</td>\n",
       "      <td>2</td>\n",
       "    </tr>\n",
       "  </tbody>\n",
       "</table>\n",
       "<p>5 rows × 40 columns</p>\n",
       "</div>"
      ],
      "text/plain": [
       "                                                    id  fl_matriz  \\\n",
       "490  7b31a8c2bf7011c7928cffb9f8225075e7ec2d638ce94e...          1   \n",
       "491  aeb22f0dffd6635c319d3de4e465d045b827b1ae490d84...          1   \n",
       "492  73af4232ce27d5eefab9ccf9c77b3678b3beab9d675852...          1   \n",
       "493  37a308088cc7793d61413571e197ecf18e4b9fbc96fa88...          1   \n",
       "494  a05a86ad99266c82bbb2a7019826ce2d8e64569cc3b4f5...          1   \n",
       "\n",
       "     idade_empresa_anos  fl_me  fl_sa  fl_mei  fl_ltda  fl_st_especial  \\\n",
       "490           13.583562      0      0       0        0               0   \n",
       "491            6.706849      0      0       0        0               0   \n",
       "492            1.624658      0      0       1        0               0   \n",
       "493           31.424658      0      0       0        0               0   \n",
       "494            3.460274      0      0       0        0               0   \n",
       "\n",
       "     fl_email  fl_telefone  ...  nm_divisao  nm_segmento  sg_uf_matriz  \\\n",
       "490         0            0  ...          30            9            20   \n",
       "491         1            1  ...          30            9             9   \n",
       "492         1            1  ...          30            9            19   \n",
       "493         0            0  ...          30            9             2   \n",
       "494         1            1  ...          30            9             9   \n",
       "\n",
       "     de_saude_tributaria  de_saude_rescencia  de_nivel_atividade  \\\n",
       "490                    3                   0                   1   \n",
       "491                    1                   0                   2   \n",
       "492                    2                   1                   2   \n",
       "493                    4                   0                   0   \n",
       "494                    4                   0                   0   \n",
       "\n",
       "     nm_meso_regiao  nm_micro_regiao  de_faixa_faturamento_estimado  \\\n",
       "490              19               73                             10   \n",
       "491              10               30                             10   \n",
       "492               6               48                             10   \n",
       "493               2               23                             10   \n",
       "494               8                0                              2   \n",
       "\n",
       "     de_faixa_faturamento_estimado_grupo  \n",
       "490                                   10  \n",
       "491                                   10  \n",
       "492                                   10  \n",
       "493                                   10  \n",
       "494                                    2  \n",
       "\n",
       "[5 rows x 40 columns]"
      ]
     },
     "execution_count": 94,
     "metadata": {},
     "output_type": "execute_result"
    }
   ],
   "source": [
    "amostra_port1.head()"
   ]
  },
  {
   "cell_type": "code",
   "execution_count": 97,
   "metadata": {},
   "outputs": [],
   "source": [
    "amostra_port1_indexid = amostra_port1.copy()"
   ]
  },
  {
   "cell_type": "code",
   "execution_count": 98,
   "metadata": {},
   "outputs": [],
   "source": [
    "amostra_port1_indexid.set_index('id', inplace=True)"
   ]
  },
  {
   "cell_type": "code",
   "execution_count": 99,
   "metadata": {},
   "outputs": [
    {
     "data": {
      "text/plain": [
       "(65, 39)"
      ]
     },
     "execution_count": 99,
     "metadata": {},
     "output_type": "execute_result"
    }
   ],
   "source": [
    "amostra_port1_indexid.shape"
   ]
  },
  {
   "cell_type": "code",
   "execution_count": 95,
   "metadata": {},
   "outputs": [
    {
     "data": {
      "text/html": [
       "<div>\n",
       "<style scoped>\n",
       "    .dataframe tbody tr th:only-of-type {\n",
       "        vertical-align: middle;\n",
       "    }\n",
       "\n",
       "    .dataframe tbody tr th {\n",
       "        vertical-align: top;\n",
       "    }\n",
       "\n",
       "    .dataframe thead th {\n",
       "        text-align: right;\n",
       "    }\n",
       "</style>\n",
       "<table border=\"1\" class=\"dataframe\">\n",
       "  <thead>\n",
       "    <tr style=\"text-align: right;\">\n",
       "      <th></th>\n",
       "      <th>fl_matriz</th>\n",
       "      <th>idade_empresa_anos</th>\n",
       "      <th>fl_me</th>\n",
       "      <th>fl_sa</th>\n",
       "      <th>fl_mei</th>\n",
       "      <th>fl_ltda</th>\n",
       "      <th>fl_st_especial</th>\n",
       "      <th>fl_email</th>\n",
       "      <th>fl_telefone</th>\n",
       "      <th>fl_rm</th>\n",
       "      <th>...</th>\n",
       "      <th>nm_segmento</th>\n",
       "      <th>sg_uf_matriz</th>\n",
       "      <th>de_saude_tributaria</th>\n",
       "      <th>de_saude_rescencia</th>\n",
       "      <th>de_nivel_atividade</th>\n",
       "      <th>nm_meso_regiao</th>\n",
       "      <th>nm_micro_regiao</th>\n",
       "      <th>de_faixa_faturamento_estimado</th>\n",
       "      <th>de_faixa_faturamento_estimado_grupo</th>\n",
       "      <th>id</th>\n",
       "    </tr>\n",
       "  </thead>\n",
       "  <tbody>\n",
       "    <tr>\n",
       "      <th>0</th>\n",
       "      <td>1</td>\n",
       "      <td>14.457534</td>\n",
       "      <td>0</td>\n",
       "      <td>0</td>\n",
       "      <td>0</td>\n",
       "      <td>0</td>\n",
       "      <td>0</td>\n",
       "      <td>1</td>\n",
       "      <td>1</td>\n",
       "      <td>1</td>\n",
       "      <td>...</td>\n",
       "      <td>10</td>\n",
       "      <td>19</td>\n",
       "      <td>4</td>\n",
       "      <td>0</td>\n",
       "      <td>0</td>\n",
       "      <td>6</td>\n",
       "      <td>48</td>\n",
       "      <td>2</td>\n",
       "      <td>2</td>\n",
       "      <td>a6984c3ae395090e3bee8ad63c3758b110de096d5d8195...</td>\n",
       "    </tr>\n",
       "    <tr>\n",
       "      <th>1</th>\n",
       "      <td>1</td>\n",
       "      <td>1.463014</td>\n",
       "      <td>0</td>\n",
       "      <td>0</td>\n",
       "      <td>1</td>\n",
       "      <td>0</td>\n",
       "      <td>0</td>\n",
       "      <td>1</td>\n",
       "      <td>1</td>\n",
       "      <td>1</td>\n",
       "      <td>...</td>\n",
       "      <td>3</td>\n",
       "      <td>16</td>\n",
       "      <td>2</td>\n",
       "      <td>1</td>\n",
       "      <td>1</td>\n",
       "      <td>4</td>\n",
       "      <td>69</td>\n",
       "      <td>10</td>\n",
       "      <td>10</td>\n",
       "      <td>6178f41ade1365e44bc2c46654c2c8c0eaae27dcb476c4...</td>\n",
       "    </tr>\n",
       "    <tr>\n",
       "      <th>2</th>\n",
       "      <td>1</td>\n",
       "      <td>7.093151</td>\n",
       "      <td>0</td>\n",
       "      <td>0</td>\n",
       "      <td>1</td>\n",
       "      <td>0</td>\n",
       "      <td>0</td>\n",
       "      <td>0</td>\n",
       "      <td>1</td>\n",
       "      <td>1</td>\n",
       "      <td>...</td>\n",
       "      <td>20</td>\n",
       "      <td>2</td>\n",
       "      <td>0</td>\n",
       "      <td>0</td>\n",
       "      <td>2</td>\n",
       "      <td>2</td>\n",
       "      <td>43</td>\n",
       "      <td>1</td>\n",
       "      <td>1</td>\n",
       "      <td>4a7e5069a397f12fdd7fd57111d6dc5d3ba558958efc02...</td>\n",
       "    </tr>\n",
       "    <tr>\n",
       "      <th>3</th>\n",
       "      <td>1</td>\n",
       "      <td>6.512329</td>\n",
       "      <td>0</td>\n",
       "      <td>0</td>\n",
       "      <td>0</td>\n",
       "      <td>0</td>\n",
       "      <td>0</td>\n",
       "      <td>1</td>\n",
       "      <td>1</td>\n",
       "      <td>1</td>\n",
       "      <td>...</td>\n",
       "      <td>17</td>\n",
       "      <td>2</td>\n",
       "      <td>0</td>\n",
       "      <td>0</td>\n",
       "      <td>2</td>\n",
       "      <td>2</td>\n",
       "      <td>43</td>\n",
       "      <td>10</td>\n",
       "      <td>10</td>\n",
       "      <td>3348900fe63216a439d2e5238c79ddd46ede454df7b9d8...</td>\n",
       "    </tr>\n",
       "    <tr>\n",
       "      <th>4</th>\n",
       "      <td>1</td>\n",
       "      <td>3.200000</td>\n",
       "      <td>0</td>\n",
       "      <td>0</td>\n",
       "      <td>0</td>\n",
       "      <td>0</td>\n",
       "      <td>0</td>\n",
       "      <td>1</td>\n",
       "      <td>1</td>\n",
       "      <td>1</td>\n",
       "      <td>...</td>\n",
       "      <td>8</td>\n",
       "      <td>19</td>\n",
       "      <td>4</td>\n",
       "      <td>0</td>\n",
       "      <td>0</td>\n",
       "      <td>6</td>\n",
       "      <td>48</td>\n",
       "      <td>10</td>\n",
       "      <td>10</td>\n",
       "      <td>1f9bcabc9d3173c1fe769899e4fac14b053037b953a1e4...</td>\n",
       "    </tr>\n",
       "  </tbody>\n",
       "</table>\n",
       "<p>5 rows × 40 columns</p>\n",
       "</div>"
      ],
      "text/plain": [
       "   fl_matriz  idade_empresa_anos  fl_me  fl_sa  fl_mei  fl_ltda  \\\n",
       "0          1           14.457534      0      0       0        0   \n",
       "1          1            1.463014      0      0       1        0   \n",
       "2          1            7.093151      0      0       1        0   \n",
       "3          1            6.512329      0      0       0        0   \n",
       "4          1            3.200000      0      0       0        0   \n",
       "\n",
       "   fl_st_especial  fl_email  fl_telefone  fl_rm  ...  nm_segmento  \\\n",
       "0               0         1            1      1  ...           10   \n",
       "1               0         1            1      1  ...            3   \n",
       "2               0         0            1      1  ...           20   \n",
       "3               0         1            1      1  ...           17   \n",
       "4               0         1            1      1  ...            8   \n",
       "\n",
       "   sg_uf_matriz  de_saude_tributaria  de_saude_rescencia  de_nivel_atividade  \\\n",
       "0            19                    4                   0                   0   \n",
       "1            16                    2                   1                   1   \n",
       "2             2                    0                   0                   2   \n",
       "3             2                    0                   0                   2   \n",
       "4            19                    4                   0                   0   \n",
       "\n",
       "   nm_meso_regiao  nm_micro_regiao  de_faixa_faturamento_estimado  \\\n",
       "0               6               48                              2   \n",
       "1               4               69                             10   \n",
       "2               2               43                              1   \n",
       "3               2               43                             10   \n",
       "4               6               48                             10   \n",
       "\n",
       "   de_faixa_faturamento_estimado_grupo  \\\n",
       "0                                    2   \n",
       "1                                   10   \n",
       "2                                    1   \n",
       "3                                   10   \n",
       "4                                   10   \n",
       "\n",
       "                                                  id  \n",
       "0  a6984c3ae395090e3bee8ad63c3758b110de096d5d8195...  \n",
       "1  6178f41ade1365e44bc2c46654c2c8c0eaae27dcb476c4...  \n",
       "2  4a7e5069a397f12fdd7fd57111d6dc5d3ba558958efc02...  \n",
       "3  3348900fe63216a439d2e5238c79ddd46ede454df7b9d8...  \n",
       "4  1f9bcabc9d3173c1fe769899e4fac14b053037b953a1e4...  \n",
       "\n",
       "[5 rows x 40 columns]"
      ]
     },
     "execution_count": 95,
     "metadata": {},
     "output_type": "execute_result"
    }
   ],
   "source": [
    "just_market.head()"
   ]
  },
  {
   "cell_type": "code",
   "execution_count": 100,
   "metadata": {},
   "outputs": [],
   "source": [
    "just_market_indexid = just_market.copy()"
   ]
  },
  {
   "cell_type": "code",
   "execution_count": 101,
   "metadata": {},
   "outputs": [],
   "source": [
    "just_market_indexid.set_index('id', inplace=True)"
   ]
  },
  {
   "cell_type": "code",
   "execution_count": 104,
   "metadata": {},
   "outputs": [],
   "source": [
    "base_test_port1_port2 = pd.concat([amostra_port1_indexid, just_market_indexid],axis=0)"
   ]
  },
  {
   "cell_type": "code",
   "execution_count": 105,
   "metadata": {},
   "outputs": [
    {
     "data": {
      "text/plain": [
       "(461085, 39)"
      ]
     },
     "execution_count": 105,
     "metadata": {},
     "output_type": "execute_result"
    }
   ],
   "source": [
    "base_test_port1_port2.shape"
   ]
  },
  {
   "cell_type": "code",
   "execution_count": 107,
   "metadata": {},
   "outputs": [],
   "source": [
    "X_test_base = base_test_port1_port2"
   ]
  },
  {
   "cell_type": "code",
   "execution_count": 131,
   "metadata": {},
   "outputs": [],
   "source": [
    "y_pred_test = exported_pipeline.predict(X_test_base)"
   ]
  },
  {
   "cell_type": "code",
   "execution_count": 132,
   "metadata": {},
   "outputs": [
    {
     "data": {
      "text/plain": [
       "1    458685\n",
       "0      2400\n",
       "Name: 0, dtype: int64"
      ]
     },
     "execution_count": 132,
     "metadata": {},
     "output_type": "execute_result"
    }
   ],
   "source": [
    "pd.DataFrame(y_pred_test)[0].value_counts()"
   ]
  }
 ],
 "metadata": {
  "kernelspec": {
   "display_name": "Python 3",
   "language": "python",
   "name": "python3"
  },
  "language_info": {
   "codemirror_mode": {
    "name": "ipython",
    "version": 3
   },
   "file_extension": ".py",
   "mimetype": "text/x-python",
   "name": "python",
   "nbconvert_exporter": "python",
   "pygments_lexer": "ipython3",
   "version": "3.7.3"
  }
 },
 "nbformat": 4,
 "nbformat_minor": 2
}
